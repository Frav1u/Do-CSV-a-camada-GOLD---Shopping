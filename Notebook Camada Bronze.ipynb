{
 "cells": [
  {
   "cell_type": "code",
   "execution_count": 0,
   "metadata": {
    "application/vnd.databricks.v1+cell": {
     "cellMetadata": {},
     "inputWidgets": {},
     "nuid": "dfbdde68-b0fd-40d3-bee5-d980194270e7",
     "showTitle": false,
     "tableResultSettingsMap": {},
     "title": ""
    }
   },
   "outputs": [],
   "source": [
    "# Este projeto tem como objetivo demonstrar algumas das tratativas que aplico no meu dia a dia na área de Dados. As visões Silver e Gold foram desenvolvidas com base em demandas reais que já atendi, refletindo práticas que considero relevantes e valiosas sob a ótica de negócio. A proposta é ilustrar como a organização e o enriquecimento dos dados podem gerar insights mais significativos para a tomada de decisão. Os dados utilizados foram extraídos do https://www.kaggle.com/datasets/captaindatasets/istanbul-mall \n",
    "\n",
    "# Um ponto importante a ressaltar é que este notebook tem caráter exploratório. Em um cenário ideal, seria recomendável estruturar o projeto separando os processos por camadas ou organizando cada etapa de criação de tabelas de forma individualizada."
   ]
  },
  {
   "cell_type": "code",
   "execution_count": 0,
   "metadata": {
    "application/vnd.databricks.v1+cell": {
     "cellMetadata": {
      "byteLimit": 2048000,
      "rowLimit": 10000
     },
     "inputWidgets": {},
     "nuid": "bcae1033-0bd3-452d-9e4e-7ece6cc0e81e",
     "showTitle": true,
     "tableResultSettingsMap": {},
     "title": "Criação dos Schemas"
    }
   },
   "outputs": [
    {
     "output_type": "stream",
     "name": "stdout",
     "output_type": "stream",
     "text": [
      "Out[1]: DataFrame[]"
     ]
    }
   ],
   "source": [
    "spark.sql(\"CREATE SCHEMA IF NOT EXISTS b_shopping\")\n",
    "spark.sql(\"CREATE SCHEMA IF NOT EXISTS s_shopping\")\n",
    "spark.sql(\"CREATE SCHEMA IF NOT EXISTS g_shopping\")"
   ]
  },
  {
   "cell_type": "code",
   "execution_count": 0,
   "metadata": {
    "application/vnd.databricks.v1+cell": {
     "cellMetadata": {
      "byteLimit": 2048000,
      "rowLimit": 10000
     },
     "inputWidgets": {},
     "nuid": "9431f96a-8213-4c8c-8d2d-24b6512720e4",
     "showTitle": true,
     "tableResultSettingsMap": {},
     "title": "Leitura dos CSV"
    }
   },
   "outputs": [],
   "source": [
    "file_location_customer = \"/FileStore/tables/customer_data.csv\"\n",
    "file_location_sales = \"/FileStore/tables/sales_data.csv\"\n",
    "file_location_shopping = \"/FileStore/tables/shopping_mall_data.csv\"\n",
    "\n",
    "\n",
    "df_customer = spark.read.format(\"csv\")\\\n",
    "    .option(\"header\", \"true\")\\\n",
    "    .option(\"delimiter\", \",\")\\\n",
    "    .load(file_location_customer)\n",
    "\n",
    "df_sales = spark.read.format(\"csv\")\\\n",
    "    .option(\"header\", \"true\")\\\n",
    "    .option(\"delimiter\", \",\")\\\n",
    "    .load(file_location_sales)\n",
    "\n",
    "df_sales_renamed = df_sales.withColumnRenamed(\"invoice date\", \"invoice_date\") # tratando o nome da coluna que possui um espaço entre duas palavras.\n",
    "\n",
    "df_shopping = spark.read.format(\"csv\")\\\n",
    "    .option(\"header\", \"true\")\\\n",
    "    .option(\"delimiter\", \",\")\\\n",
    "    .load(file_location_shopping)\n",
    "\n",
    "df_shopping_renamed = df_shopping.withColumnRenamed(\"area (sqm)\", \"area\") # tratando o nome da coluna que possui \"()\" e espaço entre duas palavras"
   ]
  },
  {
   "cell_type": "code",
   "execution_count": 0,
   "metadata": {
    "application/vnd.databricks.v1+cell": {
     "cellMetadata": {
      "byteLimit": 2048000,
      "rowLimit": 10000
     },
     "inputWidgets": {},
     "nuid": "d0599ee8-a943-4e20-8a0d-7304fd805db1",
     "showTitle": true,
     "tableResultSettingsMap": {},
     "title": "Escrevendo tabela customer"
    }
   },
   "outputs": [],
   "source": [
    "# Esta tabela é essencial para criar perfis de clientes e explorar como os atributos demográficos influenciam o comportamento de compra.\n",
    "df_customer.write.format('delta').mode('overwrite').saveAsTable('b_shopping.customer')"
   ]
  },
  {
   "cell_type": "code",
   "execution_count": 0,
   "metadata": {
    "application/vnd.databricks.v1+cell": {
     "cellMetadata": {
      "byteLimit": 2048000,
      "rowLimit": 10000
     },
     "inputWidgets": {},
     "nuid": "3daad266-4711-4ca4-a622-4296b695d6cc",
     "showTitle": true,
     "tableResultSettingsMap": {},
     "title": "Escrevendo tabela sales"
    }
   },
   "outputs": [],
   "source": [
    "# Esta tabela serve como fonte primária de dados de transações, permitindo uma análise detalhada da demanda de produtos, geração de receita e preferências dos clientes em diferentes shoppings.\n",
    "df_sales_replace.write.format('delta').mode('overwrite').saveAsTable('b_shopping.sales')"
   ]
  },
  {
   "cell_type": "code",
   "execution_count": 0,
   "metadata": {
    "application/vnd.databricks.v1+cell": {
     "cellMetadata": {
      "byteLimit": 2048000,
      "rowLimit": 10000
     },
     "inputWidgets": {},
     "nuid": "09875e52-1abf-486b-a10e-9a986874f8a1",
     "showTitle": true,
     "tableResultSettingsMap": {},
     "title": "Escrevendo tabela shopping_mall"
    }
   },
   "outputs": [],
   "source": [
    "#Esta tabela fornece contexto essencial para entender as características do shopping e sua influência nas vendas, na demografia dos clientes e no comportamento de compra.\n",
    "df_shopping_replace.write.format('delta').mode('overwrite').saveAsTable('b_shopping.shopping_mall')"
   ]
  }
 ],
 "metadata": {
  "application/vnd.databricks.v1+notebook": {
   "computePreferences": null,
   "dashboards": [],
   "environmentMetadata": {
    "base_environment": "",
    "environment_version": "1"
   },
   "inputWidgetPreferences": null,
   "language": "python",
   "notebookMetadata": {
    "mostRecentlyExecutedCommandWithImplicitDF": {
     "commandId": 2297257447926030,
     "dataframes": [
      "_sqldf"
     ]
    },
    "pythonIndentUnit": 4
   },
   "notebookName": "Notebook Camada Bronze",
   "widgets": {}
  }
 },
 "nbformat": 4,
 "nbformat_minor": 0
}