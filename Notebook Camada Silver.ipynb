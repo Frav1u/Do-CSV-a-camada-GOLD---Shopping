{
 "cells": [
  {
   "cell_type": "code",
   "execution_count": 0,
   "metadata": {
    "application/vnd.databricks.v1+cell": {
     "cellMetadata": {
      "byteLimit": 2048000,
      "rowLimit": 10000
     },
     "inputWidgets": {},
     "nuid": "feb6d646-aa03-4fbf-8fa3-5cd4540b0ed8",
     "showTitle": true,
     "tableResultSettingsMap": {},
     "title": "Criação da Tabela Silver ultima compra"
    }
   },
   "outputs": [],
   "source": [
    "from pyspark.sql import functions as F\n",
    "from pyspark.sql.window import Window as W\n",
    "from pyspark.sql.functions import row_number\n",
    "from pyspark.sql import SparkSession\n",
    "from pyspark.sql.types import *\n",
    "from datetime import datetime\n",
    "\n",
    "# O objetivo desta tabela é identificar a última compra realizada por cada cliente, informando em qual shopping ocorreu a compra e a respectiva localidade.\n",
    "\n",
    "df_sales_silver = spark.table('b_shopping.sales')\\\n",
    "    .select('customer_id', 'category', 'invoice_date', 'shopping_mall')\\\n",
    "    .withColumn('invoice_date', F.to_date(F.col('invoice_date'), 'MM/dd/yyyy'))\\\n",
    "    .withColumn('shopping',  F.when(F.col('shopping_mall') == 'Irvine Spectrum', 'Irvine Spectrum Center').otherwise(F.col('shopping_mall'))) # No df_sales_silver o nome do Shopping está escrito diferente do df_shopping_silver se essa tratativa não ser feita isso irá gerar dados nulos no join.\n",
    "\n",
    "window_spec = W.partitionBy(\"customer_id\").orderBy(\"invoice_date\")\n",
    "\n",
    "df_window = df_sales_silver.withColumn(\"row_number\", row_number().over(window_spec))\\\n",
    "    .filter(F.col('row_number') == '1')\\\n",
    "    .select('customer_id', 'category', 'invoice_date', 'shopping')\n",
    "\n",
    "df_customer_silver = spark.table('b_shopping.customer')\\\n",
    "    .select('customer_id', 'gender', 'age')\\\n",
    "    .withColumn('age', F.col('age').cast('int'))\n",
    "\n",
    "df_shopping_silver = spark.table('b_shopping.shopping_mall')\\\n",
    "    .select('shopping_mall', 'location')\n",
    "\n",
    "df_final = df_window.join(df_customer_silver, on='customer_id', how='left')\\\n",
    "    .join(df_shopping_silver, df_shopping_silver.shopping_mall == df_sales_silver.shopping, how='left')\\\n",
    "    .select('customer_id', 'gender', 'age', 'invoice_date', 'category','shopping_mall', 'location')\n",
    "\n",
    "df_final.write.format('delta').mode('overwrite').saveAsTable(\"s_shopping.TABE_ULTI_COMP\")\n",
    "\n",
    "# Como se trata de uma tabela pequena para evitar Overhead de Gerenciamento a tabela não foi particionada"
   ]
  },
  {
   "cell_type": "code",
   "execution_count": 0,
   "metadata": {
    "application/vnd.databricks.v1+cell": {
     "cellMetadata": {
      "byteLimit": 2048000,
      "implicitDf": true,
      "rowLimit": 10000
     },
     "inputWidgets": {},
     "nuid": "caf3f858-4981-4bae-8bb8-feb27bca8099",
     "showTitle": true,
     "tableResultSettingsMap": {},
     "title": "Visualizando  dados da tabela TABE_ULTI_COMP"
    }
   },
   "outputs": [
    {
     "output_type": "display_data",
     "data": {
      "text/html": [
       "<style scoped>\n",
       "  .table-result-container {\n",
       "    max-height: 300px;\n",
       "    overflow: auto;\n",
       "  }\n",
       "  table, th, td {\n",
       "    border: 1px solid black;\n",
       "    border-collapse: collapse;\n",
       "  }\n",
       "  th, td {\n",
       "    padding: 5px;\n",
       "  }\n",
       "  th {\n",
       "    text-align: left;\n",
       "  }\n",
       "</style><div class='table-result-container'><table class='table-result'><thead style='background-color: white'><tr><th>customer_id</th><th>gender</th><th>age</th><th>invoice_date</th><th>category</th><th>shopping_mall</th><th>location</th></tr></thead><tbody><tr><td>C106444</td><td>Male</td><td>48</td><td>2021-01-03</td><td>Toys</td><td>Irvine Spectrum Center</td><td>Irvine</td></tr><tr><td>C107163</td><td>Female</td><td>57</td><td>2021-01-03</td><td>Food & Beverage</td><td>Westfield Valley Fair</td><td>Santa Clara</td></tr><tr><td>C109509</td><td>Female</td><td>60</td><td>2021-01-03</td><td>Cosmetics</td><td>Stanford Shopping Center</td><td>Palo Alto</td></tr><tr><td>C110454</td><td>Female</td><td>49</td><td>2021-01-03</td><td>Clothing</td><td>South Coast Plaza</td><td>Costa Mesa</td></tr><tr><td>C114958</td><td>Male</td><td>51</td><td>2021-01-03</td><td>Souvenir</td><td>Westfield Century City</td><td>Los Angeles</td></tr><tr><td>C121997</td><td>Male</td><td>38</td><td>2021-01-03</td><td>Cosmetics</td><td>The Grove</td><td>Los Angeles</td></tr><tr><td>C124977</td><td>Female</td><td>22</td><td>2021-01-03</td><td>Cosmetics</td><td>Fashion Valley</td><td>San Diego</td></tr><tr><td>C130016</td><td>Female</td><td>51</td><td>2021-01-03</td><td>Cosmetics</td><td>Westfield Century City</td><td>Los Angeles</td></tr><tr><td>C133554</td><td>Male</td><td>49</td><td>2021-01-03</td><td>Shoes</td><td>Beverly Center</td><td>Los Angeles</td></tr><tr><td>C142209</td><td>Female</td><td>29</td><td>2021-01-03</td><td>Food & Beverage</td><td>South Coast Plaza</td><td>Costa Mesa</td></tr><tr><td>C142818</td><td>Female</td><td>23</td><td>2021-01-03</td><td>Food & Beverage</td><td>South Coast Plaza</td><td>Costa Mesa</td></tr><tr><td>C145302</td><td>Female</td><td>59</td><td>2021-01-03</td><td>Toys</td><td>Westfield Valley Fair</td><td>Santa Clara</td></tr><tr><td>C148522</td><td>Male</td><td>36</td><td>2021-01-03</td><td>Clothing</td><td>South Coast Plaza</td><td>Costa Mesa</td></tr><tr><td>C152956</td><td>Male</td><td>47</td><td>2021-01-03</td><td>Shoes</td><td>Del Amo Fashion Center</td><td>Torrance</td></tr><tr><td>C155666</td><td>Male</td><td>21</td><td>2021-01-03</td><td>Cosmetics</td><td>The Grove</td><td>Los Angeles</td></tr><tr><td>C162109</td><td>Female</td><td>54</td><td>2021-01-03</td><td>Souvenir</td><td>Beverly Center</td><td>Los Angeles</td></tr><tr><td>C169067</td><td>Female</td><td>20</td><td>2021-01-03</td><td>Clothing</td><td>The Grove</td><td>Los Angeles</td></tr><tr><td>C173543</td><td>Male</td><td>65</td><td>2021-01-03</td><td>Technology</td><td>Fashion Valley</td><td>San Diego</td></tr><tr><td>C175927</td><td>Female</td><td>29</td><td>2021-01-03</td><td>Souvenir</td><td>Westfield Century City</td><td>Los Angeles</td></tr><tr><td>C176753</td><td>Female</td><td>19</td><td>2021-01-03</td><td>Clothing</td><td>Stanford Shopping Center</td><td>Palo Alto</td></tr><tr><td>C183678</td><td>Female</td><td>61</td><td>2021-01-03</td><td>Clothing</td><td>Fashion Valley</td><td>San Diego</td></tr><tr><td>C193791</td><td>Male</td><td>47</td><td>2021-01-03</td><td>Clothing</td><td>Del Amo Fashion Center</td><td>Torrance</td></tr><tr><td>C204086</td><td>Female</td><td>52</td><td>2021-01-03</td><td>Toys</td><td>Beverly Center</td><td>Los Angeles</td></tr><tr><td>C211303</td><td>Female</td><td>30</td><td>2021-01-03</td><td>Technology</td><td>Glendale Galleria</td><td>Glendale</td></tr><tr><td>C214973</td><td>Female</td><td>63</td><td>2021-01-03</td><td>Food & Beverage</td><td>Beverly Center</td><td>Los Angeles</td></tr><tr><td>C219826</td><td>Male</td><td>58</td><td>2021-01-03</td><td>Technology</td><td>South Coast Plaza</td><td>Costa Mesa</td></tr><tr><td>C242209</td><td>Female</td><td>20</td><td>2021-01-03</td><td>Clothing</td><td>Westfield Century City</td><td>Los Angeles</td></tr><tr><td>C267997</td><td>Male</td><td>48</td><td>2021-01-03</td><td>Books</td><td>Del Amo Fashion Center</td><td>Torrance</td></tr><tr><td>C273531</td><td>Female</td><td>67</td><td>2021-01-03</td><td>Shoes</td><td>Irvine Spectrum Center</td><td>Irvine</td></tr><tr><td>C283436</td><td>Female</td><td>29</td><td>2021-01-03</td><td>Clothing</td><td>Beverly Center</td><td>Los Angeles</td></tr><tr><td>C284188</td><td>Female</td><td>68</td><td>2021-01-03</td><td>Cosmetics</td><td>Westfield Century City</td><td>Los Angeles</td></tr><tr><td>C287526</td><td>Male</td><td>34</td><td>2021-01-03</td><td>Books</td><td>Del Amo Fashion Center</td><td>Torrance</td></tr><tr><td>C300693</td><td>Female</td><td>64</td><td>2021-01-03</td><td>Technology</td><td>Del Amo Fashion Center</td><td>Torrance</td></tr><tr><td>C309599</td><td>Male</td><td>41</td><td>2021-01-03</td><td>Books</td><td>Del Amo Fashion Center</td><td>Torrance</td></tr><tr><td>C309854</td><td>Male</td><td>40</td><td>2021-01-03</td><td>Shoes</td><td>Westfield Century City</td><td>Los Angeles</td></tr><tr><td>C321258</td><td>Female</td><td>54</td><td>2021-01-03</td><td>Toys</td><td>Del Amo Fashion Center</td><td>Torrance</td></tr><tr><td>C329876</td><td>Female</td><td>42</td><td>2021-01-03</td><td>Clothing</td><td>South Coast Plaza</td><td>Costa Mesa</td></tr><tr><td>C331168</td><td>Female</td><td>58</td><td>2021-01-03</td><td>Books</td><td>Del Amo Fashion Center</td><td>Torrance</td></tr><tr><td>C333868</td><td>Female</td><td>22</td><td>2021-01-03</td><td>Clothing</td><td>Westfield Century City</td><td>Los Angeles</td></tr><tr><td>C335096</td><td>Male</td><td>54</td><td>2021-01-03</td><td>Cosmetics</td><td>Westfield Century City</td><td>Los Angeles</td></tr><tr><td>C388728</td><td>Male</td><td>22</td><td>2021-01-03</td><td>Shoes</td><td>Westfield Century City</td><td>Los Angeles</td></tr><tr><td>C425792</td><td>Female</td><td>35</td><td>2021-01-03</td><td>Cosmetics</td><td>Westfield Valley Fair</td><td>Santa Clara</td></tr><tr><td>C481518</td><td>Male</td><td>31</td><td>2021-01-03</td><td>Toys</td><td>Westfield Valley Fair</td><td>Santa Clara</td></tr><tr><td>C488714</td><td>Female</td><td>24</td><td>2021-01-03</td><td>Books</td><td>Westfield Valley Fair</td><td>Santa Clara</td></tr><tr><td>C542913</td><td>Female</td><td>19</td><td>2021-01-03</td><td>Clothing</td><td>South Coast Plaza</td><td>Costa Mesa</td></tr><tr><td>C557581</td><td>Female</td><td>26</td><td>2021-01-03</td><td>Cosmetics</td><td>Westfield Century City</td><td>Los Angeles</td></tr><tr><td>C595776</td><td>Female</td><td>42</td><td>2021-01-03</td><td>Food & Beverage</td><td>Irvine Spectrum Center</td><td>Irvine</td></tr><tr><td>C666590</td><td>Female</td><td>39</td><td>2021-01-03</td><td>Cosmetics</td><td>Westfield Century City</td><td>Los Angeles</td></tr><tr><td>C706385</td><td>Female</td><td>69</td><td>2021-01-03</td><td>Cosmetics</td><td>Irvine Spectrum Center</td><td>Irvine</td></tr><tr><td>C725180</td><td>Female</td><td>66</td><td>2021-01-03</td><td>Technology</td><td>Westfield Century City</td><td>Los Angeles</td></tr><tr><td>C750642</td><td>Male</td><td>62</td><td>2021-01-03</td><td>Shoes</td><td>Westfield Century City</td><td>Los Angeles</td></tr><tr><td>C915543</td><td>Female</td><td>63</td><td>2021-01-03</td><td>Food & Beverage</td><td>Del Amo Fashion Center</td><td>Torrance</td></tr><tr><td>C105769</td><td>Male</td><td>34</td><td>2021-01-01</td><td>Clothing</td><td>Westfield Valley Fair</td><td>Santa Clara</td></tr><tr><td>C106566</td><td>Male</td><td>67</td><td>2021-01-01</td><td>Clothing</td><td>Del Amo Fashion Center</td><td>Torrance</td></tr><tr><td>C112914</td><td>Male</td><td>18</td><td>2021-01-01</td><td>Food & Beverage</td><td>South Coast Plaza</td><td>Costa Mesa</td></tr><tr><td>C153501</td><td>Female</td><td>43</td><td>2021-01-01</td><td>Technology</td><td>Fashion Valley</td><td>San Diego</td></tr><tr><td>C161382</td><td>Male</td><td>43</td><td>2021-01-01</td><td>Clothing</td><td>Fashion Valley</td><td>San Diego</td></tr><tr><td>C164803</td><td>Female</td><td>65</td><td>2021-01-01</td><td>Souvenir</td><td>Westfield Valley Fair</td><td>Santa Clara</td></tr><tr><td>C168045</td><td>Male</td><td>47</td><td>2021-01-01</td><td>Cosmetics</td><td>Westfield Valley Fair</td><td>Santa Clara</td></tr><tr><td>C191193</td><td>Male</td><td>21</td><td>2021-01-01</td><td>Clothing</td><td>Irvine Spectrum Center</td><td>Irvine</td></tr><tr><td>C193687</td><td>Male</td><td>27</td><td>2021-01-01</td><td>Toys</td><td>Westfield Valley Fair</td><td>Santa Clara</td></tr><tr><td>C196703</td><td>Female</td><td>45</td><td>2021-01-01</td><td>Clothing</td><td>Westfield Century City</td><td>Los Angeles</td></tr><tr><td>C210302</td><td>Female</td><td>24</td><td>2021-01-01</td><td>Food & Beverage</td><td>South Coast Plaza</td><td>Costa Mesa</td></tr><tr><td>C211233</td><td>Male</td><td>50</td><td>2021-01-01</td><td>Clothing</td><td>Westfield Valley Fair</td><td>Santa Clara</td></tr><tr><td>C211804</td><td>Female</td><td>62</td><td>2021-01-01</td><td>Shoes</td><td>Del Amo Fashion Center</td><td>Torrance</td></tr><tr><td>C226785</td><td>Male</td><td>48</td><td>2021-01-01</td><td>Clothing</td><td>Westfield Century City</td><td>Los Angeles</td></tr><tr><td>C231715</td><td>Male</td><td>44</td><td>2021-01-01</td><td>Cosmetics</td><td>Del Amo Fashion Center</td><td>Torrance</td></tr><tr><td>C237368</td><td>Female</td><td>37</td><td>2021-01-01</td><td>Shoes</td><td>Westfield Century City</td><td>Los Angeles</td></tr><tr><td>C249060</td><td>Male</td><td>39</td><td>2021-01-01</td><td>Cosmetics</td><td>Stanford Shopping Center</td><td>Palo Alto</td></tr><tr><td>C260019</td><td>Female</td><td>19</td><td>2021-01-01</td><td>Cosmetics</td><td>Westfield Century City</td><td>Los Angeles</td></tr><tr><td>C270560</td><td>Female</td><td>44</td><td>2021-01-01</td><td>Shoes</td><td>Westfield Century City</td><td>Los Angeles</td></tr><tr><td>C280473</td><td>Male</td><td>51</td><td>2021-01-01</td><td>Cosmetics</td><td>Westfield Valley Fair</td><td>Santa Clara</td></tr><tr><td>C287964</td><td>Female</td><td>47</td><td>2021-01-01</td><td>Books</td><td>Westfield Century City</td><td>Los Angeles</td></tr><tr><td>C299146</td><td>Female</td><td>45</td><td>2021-01-01</td><td>Shoes</td><td>Stanford Shopping Center</td><td>Palo Alto</td></tr><tr><td>C300434</td><td>Male</td><td>22</td><td>2021-01-01</td><td>Books</td><td>Del Amo Fashion Center</td><td>Torrance</td></tr><tr><td>C312481</td><td>Male</td><td>58</td><td>2021-01-01</td><td>Food & Beverage</td><td>Del Amo Fashion Center</td><td>Torrance</td></tr><tr><td>C316581</td><td>Female</td><td>48</td><td>2021-01-01</td><td>Food & Beverage</td><td>South Coast Plaza</td><td>Costa Mesa</td></tr><tr><td>C319121</td><td>Male</td><td>49</td><td>2021-01-01</td><td>Cosmetics</td><td>Del Amo Fashion Center</td><td>Torrance</td></tr><tr><td>C329731</td><td>Male</td><td>43</td><td>2021-01-01</td><td>Cosmetics</td><td>South Coast Plaza</td><td>Costa Mesa</td></tr><tr><td>C339057</td><td>Male</td><td>43</td><td>2021-01-01</td><td>Food & Beverage</td><td>South Coast Plaza</td><td>Costa Mesa</td></tr><tr><td>C342595</td><td>Female</td><td>58</td><td>2021-01-01</td><td>Souvenir</td><td>Fashion Valley</td><td>San Diego</td></tr><tr><td>C362018</td><td>Male</td><td>47</td><td>2021-01-01</td><td>Books</td><td>The Grove</td><td>Los Angeles</td></tr><tr><td>C366859</td><td>Male</td><td>25</td><td>2021-01-01</td><td>Toys</td><td>Fashion Valley</td><td>San Diego</td></tr><tr><td>C416594</td><td>Female</td><td>32</td><td>2021-01-01</td><td>Cosmetics</td><td>South Coast Plaza</td><td>Costa Mesa</td></tr><tr><td>C421044</td><td>Male</td><td>67</td><td>2021-01-01</td><td>Cosmetics</td><td>Stanford Shopping Center</td><td>Palo Alto</td></tr><tr><td>C464300</td><td>Female</td><td>33</td><td>2021-01-01</td><td>Toys</td><td>South Coast Plaza</td><td>Costa Mesa</td></tr><tr><td>C516977</td><td>Female</td><td>69</td><td>2021-01-01</td><td>Food & Beverage</td><td>Westfield Valley Fair</td><td>Santa Clara</td></tr><tr><td>C535517</td><td>Male</td><td>60</td><td>2021-01-01</td><td>Souvenir</td><td>Irvine Spectrum Center</td><td>Irvine</td></tr><tr><td>C607315</td><td>Female</td><td>51</td><td>2021-01-01</td><td>Books</td><td>Del Amo Fashion Center</td><td>Torrance</td></tr><tr><td>C611041</td><td>Female</td><td>27</td><td>2021-01-01</td><td>Toys</td><td>South Coast Plaza</td><td>Costa Mesa</td></tr><tr><td>C612294</td><td>Female</td><td>18</td><td>2021-01-01</td><td>Clothing</td><td>Del Amo Fashion Center</td><td>Torrance</td></tr><tr><td>C624861</td><td>Female</td><td>23</td><td>2021-01-01</td><td>Shoes</td><td>Westfield Valley Fair</td><td>Santa Clara</td></tr><tr><td>C759842</td><td>Male</td><td>54</td><td>2021-01-01</td><td>Souvenir</td><td>The Grove</td><td>Los Angeles</td></tr><tr><td>C813957</td><td>Female</td><td>30</td><td>2021-01-01</td><td>Food & Beverage</td><td>Irvine Spectrum Center</td><td>Irvine</td></tr><tr><td>C824542</td><td>Female</td><td>28</td><td>2021-01-01</td><td>Toys</td><td>South Coast Plaza</td><td>Costa Mesa</td></tr><tr><td>C844363</td><td>Female</td><td>49</td><td>2021-01-01</td><td>Cosmetics</td><td>Del Amo Fashion Center</td><td>Torrance</td></tr><tr><td>C866358</td><td>Female</td><td>29</td><td>2021-01-01</td><td>Cosmetics</td><td>South Coast Plaza</td><td>Costa Mesa</td></tr><tr><td>C913265</td><td>Male</td><td>30</td><td>2021-01-01</td><td>Souvenir</td><td>Stanford Shopping Center</td><td>Palo Alto</td></tr><tr><td>C979723</td><td>Male</td><td>30</td><td>2021-01-01</td><td>Technology</td><td>Westfield Valley Fair</td><td>Santa Clara</td></tr><tr><td>C993903</td><td>Female</td><td>53</td><td>2021-01-01</td><td>Shoes</td><td>The Grove</td><td>Los Angeles</td></tr></tbody></table></div>"
      ]
     },
     "metadata": {
      "application/vnd.databricks.v1+output": {
       "addedWidgets": {},
       "aggData": [],
       "aggError": "",
       "aggOverflow": false,
       "aggSchema": [],
       "aggSeriesLimitReached": false,
       "aggType": "",
       "arguments": {},
       "columnCustomDisplayInfos": {},
       "data": [
        [
         "C106444",
         "Male",
         48,
         "2021-01-03",
         "Toys",
         "Irvine Spectrum Center",
         "Irvine"
        ],
        [
         "C107163",
         "Female",
         57,
         "2021-01-03",
         "Food & Beverage",
         "Westfield Valley Fair",
         "Santa Clara"
        ],
        [
         "C109509",
         "Female",
         60,
         "2021-01-03",
         "Cosmetics",
         "Stanford Shopping Center",
         "Palo Alto"
        ],
        [
         "C110454",
         "Female",
         49,
         "2021-01-03",
         "Clothing",
         "South Coast Plaza",
         "Costa Mesa"
        ],
        [
         "C114958",
         "Male",
         51,
         "2021-01-03",
         "Souvenir",
         "Westfield Century City",
         "Los Angeles"
        ],
        [
         "C121997",
         "Male",
         38,
         "2021-01-03",
         "Cosmetics",
         "The Grove",
         "Los Angeles"
        ],
        [
         "C124977",
         "Female",
         22,
         "2021-01-03",
         "Cosmetics",
         "Fashion Valley",
         "San Diego"
        ],
        [
         "C130016",
         "Female",
         51,
         "2021-01-03",
         "Cosmetics",
         "Westfield Century City",
         "Los Angeles"
        ],
        [
         "C133554",
         "Male",
         49,
         "2021-01-03",
         "Shoes",
         "Beverly Center",
         "Los Angeles"
        ],
        [
         "C142209",
         "Female",
         29,
         "2021-01-03",
         "Food & Beverage",
         "South Coast Plaza",
         "Costa Mesa"
        ],
        [
         "C142818",
         "Female",
         23,
         "2021-01-03",
         "Food & Beverage",
         "South Coast Plaza",
         "Costa Mesa"
        ],
        [
         "C145302",
         "Female",
         59,
         "2021-01-03",
         "Toys",
         "Westfield Valley Fair",
         "Santa Clara"
        ],
        [
         "C148522",
         "Male",
         36,
         "2021-01-03",
         "Clothing",
         "South Coast Plaza",
         "Costa Mesa"
        ],
        [
         "C152956",
         "Male",
         47,
         "2021-01-03",
         "Shoes",
         "Del Amo Fashion Center",
         "Torrance"
        ],
        [
         "C155666",
         "Male",
         21,
         "2021-01-03",
         "Cosmetics",
         "The Grove",
         "Los Angeles"
        ],
        [
         "C162109",
         "Female",
         54,
         "2021-01-03",
         "Souvenir",
         "Beverly Center",
         "Los Angeles"
        ],
        [
         "C169067",
         "Female",
         20,
         "2021-01-03",
         "Clothing",
         "The Grove",
         "Los Angeles"
        ],
        [
         "C173543",
         "Male",
         65,
         "2021-01-03",
         "Technology",
         "Fashion Valley",
         "San Diego"
        ],
        [
         "C175927",
         "Female",
         29,
         "2021-01-03",
         "Souvenir",
         "Westfield Century City",
         "Los Angeles"
        ],
        [
         "C176753",
         "Female",
         19,
         "2021-01-03",
         "Clothing",
         "Stanford Shopping Center",
         "Palo Alto"
        ],
        [
         "C183678",
         "Female",
         61,
         "2021-01-03",
         "Clothing",
         "Fashion Valley",
         "San Diego"
        ],
        [
         "C193791",
         "Male",
         47,
         "2021-01-03",
         "Clothing",
         "Del Amo Fashion Center",
         "Torrance"
        ],
        [
         "C204086",
         "Female",
         52,
         "2021-01-03",
         "Toys",
         "Beverly Center",
         "Los Angeles"
        ],
        [
         "C211303",
         "Female",
         30,
         "2021-01-03",
         "Technology",
         "Glendale Galleria",
         "Glendale"
        ],
        [
         "C214973",
         "Female",
         63,
         "2021-01-03",
         "Food & Beverage",
         "Beverly Center",
         "Los Angeles"
        ],
        [
         "C219826",
         "Male",
         58,
         "2021-01-03",
         "Technology",
         "South Coast Plaza",
         "Costa Mesa"
        ],
        [
         "C242209",
         "Female",
         20,
         "2021-01-03",
         "Clothing",
         "Westfield Century City",
         "Los Angeles"
        ],
        [
         "C267997",
         "Male",
         48,
         "2021-01-03",
         "Books",
         "Del Amo Fashion Center",
         "Torrance"
        ],
        [
         "C273531",
         "Female",
         67,
         "2021-01-03",
         "Shoes",
         "Irvine Spectrum Center",
         "Irvine"
        ],
        [
         "C283436",
         "Female",
         29,
         "2021-01-03",
         "Clothing",
         "Beverly Center",
         "Los Angeles"
        ],
        [
         "C284188",
         "Female",
         68,
         "2021-01-03",
         "Cosmetics",
         "Westfield Century City",
         "Los Angeles"
        ],
        [
         "C287526",
         "Male",
         34,
         "2021-01-03",
         "Books",
         "Del Amo Fashion Center",
         "Torrance"
        ],
        [
         "C300693",
         "Female",
         64,
         "2021-01-03",
         "Technology",
         "Del Amo Fashion Center",
         "Torrance"
        ],
        [
         "C309599",
         "Male",
         41,
         "2021-01-03",
         "Books",
         "Del Amo Fashion Center",
         "Torrance"
        ],
        [
         "C309854",
         "Male",
         40,
         "2021-01-03",
         "Shoes",
         "Westfield Century City",
         "Los Angeles"
        ],
        [
         "C321258",
         "Female",
         54,
         "2021-01-03",
         "Toys",
         "Del Amo Fashion Center",
         "Torrance"
        ],
        [
         "C329876",
         "Female",
         42,
         "2021-01-03",
         "Clothing",
         "South Coast Plaza",
         "Costa Mesa"
        ],
        [
         "C331168",
         "Female",
         58,
         "2021-01-03",
         "Books",
         "Del Amo Fashion Center",
         "Torrance"
        ],
        [
         "C333868",
         "Female",
         22,
         "2021-01-03",
         "Clothing",
         "Westfield Century City",
         "Los Angeles"
        ],
        [
         "C335096",
         "Male",
         54,
         "2021-01-03",
         "Cosmetics",
         "Westfield Century City",
         "Los Angeles"
        ],
        [
         "C388728",
         "Male",
         22,
         "2021-01-03",
         "Shoes",
         "Westfield Century City",
         "Los Angeles"
        ],
        [
         "C425792",
         "Female",
         35,
         "2021-01-03",
         "Cosmetics",
         "Westfield Valley Fair",
         "Santa Clara"
        ],
        [
         "C481518",
         "Male",
         31,
         "2021-01-03",
         "Toys",
         "Westfield Valley Fair",
         "Santa Clara"
        ],
        [
         "C488714",
         "Female",
         24,
         "2021-01-03",
         "Books",
         "Westfield Valley Fair",
         "Santa Clara"
        ],
        [
         "C542913",
         "Female",
         19,
         "2021-01-03",
         "Clothing",
         "South Coast Plaza",
         "Costa Mesa"
        ],
        [
         "C557581",
         "Female",
         26,
         "2021-01-03",
         "Cosmetics",
         "Westfield Century City",
         "Los Angeles"
        ],
        [
         "C595776",
         "Female",
         42,
         "2021-01-03",
         "Food & Beverage",
         "Irvine Spectrum Center",
         "Irvine"
        ],
        [
         "C666590",
         "Female",
         39,
         "2021-01-03",
         "Cosmetics",
         "Westfield Century City",
         "Los Angeles"
        ],
        [
         "C706385",
         "Female",
         69,
         "2021-01-03",
         "Cosmetics",
         "Irvine Spectrum Center",
         "Irvine"
        ],
        [
         "C725180",
         "Female",
         66,
         "2021-01-03",
         "Technology",
         "Westfield Century City",
         "Los Angeles"
        ],
        [
         "C750642",
         "Male",
         62,
         "2021-01-03",
         "Shoes",
         "Westfield Century City",
         "Los Angeles"
        ],
        [
         "C915543",
         "Female",
         63,
         "2021-01-03",
         "Food & Beverage",
         "Del Amo Fashion Center",
         "Torrance"
        ],
        [
         "C105769",
         "Male",
         34,
         "2021-01-01",
         "Clothing",
         "Westfield Valley Fair",
         "Santa Clara"
        ],
        [
         "C106566",
         "Male",
         67,
         "2021-01-01",
         "Clothing",
         "Del Amo Fashion Center",
         "Torrance"
        ],
        [
         "C112914",
         "Male",
         18,
         "2021-01-01",
         "Food & Beverage",
         "South Coast Plaza",
         "Costa Mesa"
        ],
        [
         "C153501",
         "Female",
         43,
         "2021-01-01",
         "Technology",
         "Fashion Valley",
         "San Diego"
        ],
        [
         "C161382",
         "Male",
         43,
         "2021-01-01",
         "Clothing",
         "Fashion Valley",
         "San Diego"
        ],
        [
         "C164803",
         "Female",
         65,
         "2021-01-01",
         "Souvenir",
         "Westfield Valley Fair",
         "Santa Clara"
        ],
        [
         "C168045",
         "Male",
         47,
         "2021-01-01",
         "Cosmetics",
         "Westfield Valley Fair",
         "Santa Clara"
        ],
        [
         "C191193",
         "Male",
         21,
         "2021-01-01",
         "Clothing",
         "Irvine Spectrum Center",
         "Irvine"
        ],
        [
         "C193687",
         "Male",
         27,
         "2021-01-01",
         "Toys",
         "Westfield Valley Fair",
         "Santa Clara"
        ],
        [
         "C196703",
         "Female",
         45,
         "2021-01-01",
         "Clothing",
         "Westfield Century City",
         "Los Angeles"
        ],
        [
         "C210302",
         "Female",
         24,
         "2021-01-01",
         "Food & Beverage",
         "South Coast Plaza",
         "Costa Mesa"
        ],
        [
         "C211233",
         "Male",
         50,
         "2021-01-01",
         "Clothing",
         "Westfield Valley Fair",
         "Santa Clara"
        ],
        [
         "C211804",
         "Female",
         62,
         "2021-01-01",
         "Shoes",
         "Del Amo Fashion Center",
         "Torrance"
        ],
        [
         "C226785",
         "Male",
         48,
         "2021-01-01",
         "Clothing",
         "Westfield Century City",
         "Los Angeles"
        ],
        [
         "C231715",
         "Male",
         44,
         "2021-01-01",
         "Cosmetics",
         "Del Amo Fashion Center",
         "Torrance"
        ],
        [
         "C237368",
         "Female",
         37,
         "2021-01-01",
         "Shoes",
         "Westfield Century City",
         "Los Angeles"
        ],
        [
         "C249060",
         "Male",
         39,
         "2021-01-01",
         "Cosmetics",
         "Stanford Shopping Center",
         "Palo Alto"
        ],
        [
         "C260019",
         "Female",
         19,
         "2021-01-01",
         "Cosmetics",
         "Westfield Century City",
         "Los Angeles"
        ],
        [
         "C270560",
         "Female",
         44,
         "2021-01-01",
         "Shoes",
         "Westfield Century City",
         "Los Angeles"
        ],
        [
         "C280473",
         "Male",
         51,
         "2021-01-01",
         "Cosmetics",
         "Westfield Valley Fair",
         "Santa Clara"
        ],
        [
         "C287964",
         "Female",
         47,
         "2021-01-01",
         "Books",
         "Westfield Century City",
         "Los Angeles"
        ],
        [
         "C299146",
         "Female",
         45,
         "2021-01-01",
         "Shoes",
         "Stanford Shopping Center",
         "Palo Alto"
        ],
        [
         "C300434",
         "Male",
         22,
         "2021-01-01",
         "Books",
         "Del Amo Fashion Center",
         "Torrance"
        ],
        [
         "C312481",
         "Male",
         58,
         "2021-01-01",
         "Food & Beverage",
         "Del Amo Fashion Center",
         "Torrance"
        ],
        [
         "C316581",
         "Female",
         48,
         "2021-01-01",
         "Food & Beverage",
         "South Coast Plaza",
         "Costa Mesa"
        ],
        [
         "C319121",
         "Male",
         49,
         "2021-01-01",
         "Cosmetics",
         "Del Amo Fashion Center",
         "Torrance"
        ],
        [
         "C329731",
         "Male",
         43,
         "2021-01-01",
         "Cosmetics",
         "South Coast Plaza",
         "Costa Mesa"
        ],
        [
         "C339057",
         "Male",
         43,
         "2021-01-01",
         "Food & Beverage",
         "South Coast Plaza",
         "Costa Mesa"
        ],
        [
         "C342595",
         "Female",
         58,
         "2021-01-01",
         "Souvenir",
         "Fashion Valley",
         "San Diego"
        ],
        [
         "C362018",
         "Male",
         47,
         "2021-01-01",
         "Books",
         "The Grove",
         "Los Angeles"
        ],
        [
         "C366859",
         "Male",
         25,
         "2021-01-01",
         "Toys",
         "Fashion Valley",
         "San Diego"
        ],
        [
         "C416594",
         "Female",
         32,
         "2021-01-01",
         "Cosmetics",
         "South Coast Plaza",
         "Costa Mesa"
        ],
        [
         "C421044",
         "Male",
         67,
         "2021-01-01",
         "Cosmetics",
         "Stanford Shopping Center",
         "Palo Alto"
        ],
        [
         "C464300",
         "Female",
         33,
         "2021-01-01",
         "Toys",
         "South Coast Plaza",
         "Costa Mesa"
        ],
        [
         "C516977",
         "Female",
         69,
         "2021-01-01",
         "Food & Beverage",
         "Westfield Valley Fair",
         "Santa Clara"
        ],
        [
         "C535517",
         "Male",
         60,
         "2021-01-01",
         "Souvenir",
         "Irvine Spectrum Center",
         "Irvine"
        ],
        [
         "C607315",
         "Female",
         51,
         "2021-01-01",
         "Books",
         "Del Amo Fashion Center",
         "Torrance"
        ],
        [
         "C611041",
         "Female",
         27,
         "2021-01-01",
         "Toys",
         "South Coast Plaza",
         "Costa Mesa"
        ],
        [
         "C612294",
         "Female",
         18,
         "2021-01-01",
         "Clothing",
         "Del Amo Fashion Center",
         "Torrance"
        ],
        [
         "C624861",
         "Female",
         23,
         "2021-01-01",
         "Shoes",
         "Westfield Valley Fair",
         "Santa Clara"
        ],
        [
         "C759842",
         "Male",
         54,
         "2021-01-01",
         "Souvenir",
         "The Grove",
         "Los Angeles"
        ],
        [
         "C813957",
         "Female",
         30,
         "2021-01-01",
         "Food & Beverage",
         "Irvine Spectrum Center",
         "Irvine"
        ],
        [
         "C824542",
         "Female",
         28,
         "2021-01-01",
         "Toys",
         "South Coast Plaza",
         "Costa Mesa"
        ],
        [
         "C844363",
         "Female",
         49,
         "2021-01-01",
         "Cosmetics",
         "Del Amo Fashion Center",
         "Torrance"
        ],
        [
         "C866358",
         "Female",
         29,
         "2021-01-01",
         "Cosmetics",
         "South Coast Plaza",
         "Costa Mesa"
        ],
        [
         "C913265",
         "Male",
         30,
         "2021-01-01",
         "Souvenir",
         "Stanford Shopping Center",
         "Palo Alto"
        ],
        [
         "C979723",
         "Male",
         30,
         "2021-01-01",
         "Technology",
         "Westfield Valley Fair",
         "Santa Clara"
        ],
        [
         "C993903",
         "Female",
         53,
         "2021-01-01",
         "Shoes",
         "The Grove",
         "Los Angeles"
        ]
       ],
       "datasetInfos": [],
       "dbfsResultPath": null,
       "isJsonSchema": true,
       "metadata": {},
       "overflow": false,
       "plotOptions": {
        "customPlotOptions": {},
        "displayType": "table",
        "pivotAggregation": null,
        "pivotColumns": null,
        "xColumns": null,
        "yColumns": null
       },
       "removedWidgets": [],
       "schema": [
        {
         "metadata": "{}",
         "name": "customer_id",
         "type": "\"string\""
        },
        {
         "metadata": "{}",
         "name": "gender",
         "type": "\"string\""
        },
        {
         "metadata": "{}",
         "name": "age",
         "type": "\"integer\""
        },
        {
         "metadata": "{}",
         "name": "invoice_date",
         "type": "\"date\""
        },
        {
         "metadata": "{}",
         "name": "category",
         "type": "\"string\""
        },
        {
         "metadata": "{}",
         "name": "shopping_mall",
         "type": "\"string\""
        },
        {
         "metadata": "{}",
         "name": "location",
         "type": "\"string\""
        }
       ],
       "type": "table"
      }
     },
     "output_type": "display_data"
    }
   ],
   "source": [
    "%sql\n",
    "SELECT * FROM s_shopping.TABE_ULTI_COMP LIMIT 100"
   ]
  },
  {
   "cell_type": "code",
   "execution_count": 0,
   "metadata": {
    "application/vnd.databricks.v1+cell": {
     "cellMetadata": {
      "byteLimit": 2048000,
      "rowLimit": 10000
     },
     "inputWidgets": {},
     "nuid": "80a7eb3c-ef6b-45f7-8ecd-f03f92ed7fdd",
     "showTitle": true,
     "tableResultSettingsMap": {},
     "title": "Criação da Tabela Silver vendas por categoria"
    }
   },
   "outputs": [],
   "source": [
    "from pyspark.sql.functions import date_format\n",
    "\n",
    "# O objetivo desta tabela é consolidar os dados de vendas, agrupando-os por shopping, categoria e período (cd_peri, representando ano e mês). Embora a visão gerada tenha características que poderiam enquadrá-la na camada Gold, optei por mantê-la na camada Silver para preservar maior flexibilidade e aderência ao processo de transformação dos dados.\n",
    "\n",
    "df_sales_agg = spark.table('b_shopping.sales')\\\n",
    "    .select('shopping_mall', 'price', 'category', 'invoice_date')\\\n",
    "    .withColumn('invoice_date', F.to_date(F.col('invoice_date'), 'MM/dd/yyyy'))\\\n",
    "    .withColumn('cd_peri', F.date_format('invoice_date', 'yyyyMM').cast('int'))\\\n",
    "    .withColumn('price', F.col('price').cast(DecimalType(18,2)))\\\n",
    "    .groupBy('shopping_mall', 'category','cd_peri').agg(F.sum('price').alias('TOTAL')).orderBy('shopping_mall', 'category', 'cd_peri')\n",
    "\n",
    "df_sales_agg.write.format('delta')\\\n",
    "    .mode('overwrite')\\\n",
    "    .saveAsTable('s_shopping.TABE_VEND_AGRUP_CATEG')\n",
    "\n",
    "# Como se trata de uma tabela pequena para evitar Overhead de Gerenciamento a tabela não foi particionada "
   ]
  },
  {
   "cell_type": "code",
   "execution_count": 0,
   "metadata": {
    "application/vnd.databricks.v1+cell": {
     "cellMetadata": {
      "byteLimit": 2048000,
      "implicitDf": true,
      "rowLimit": 10000
     },
     "inputWidgets": {},
     "nuid": "74c28922-e1a4-4700-969e-16700dc03066",
     "showTitle": true,
     "tableResultSettingsMap": {},
     "title": "Visualizando  dados da tabela TABE_VEND_AGRUP_CATEG"
    }
   },
   "outputs": [
    {
     "output_type": "display_data",
     "data": {
      "text/html": [
       "<style scoped>\n",
       "  .table-result-container {\n",
       "    max-height: 300px;\n",
       "    overflow: auto;\n",
       "  }\n",
       "  table, th, td {\n",
       "    border: 1px solid black;\n",
       "    border-collapse: collapse;\n",
       "  }\n",
       "  th, td {\n",
       "    padding: 5px;\n",
       "  }\n",
       "  th {\n",
       "    text-align: left;\n",
       "  }\n",
       "</style><div class='table-result-container'><table class='table-result'><thead style='background-color: white'><tr><th>shopping_mall</th><th>category</th><th>cd_peri</th><th>TOTAL</th></tr></thead><tbody><tr><td>Beverly Center</td><td>Books</td><td>202102</td><td>469.65</td></tr><tr><td>Beverly Center</td><td>Clothing</td><td>202102</td><td>51013.60</td></tr><tr><td>Beverly Center</td><td>Cosmetics</td><td>202102</td><td>3862.70</td></tr><tr><td>Beverly Center</td><td>Food & Beverage</td><td>202102</td><td>345.18</td></tr><tr><td>Beverly Center</td><td>Shoes</td><td>202102</td><td>37210.54</td></tr><tr><td>Beverly Center</td><td>Souvenir</td><td>202102</td><td>293.25</td></tr><tr><td>Beverly Center</td><td>Technology</td><td>202102</td><td>21000.00</td></tr><tr><td>Beverly Center</td><td>Toys</td><td>202102</td><td>2150.40</td></tr><tr><td>Del Amo Fashion Center</td><td>Books</td><td>202102</td><td>1424.10</td></tr><tr><td>Del Amo Fashion Center</td><td>Clothing</td><td>202102</td><td>216957.84</td></tr><tr><td>Del Amo Fashion Center</td><td>Cosmetics</td><td>202102</td><td>11506.78</td></tr><tr><td>Del Amo Fashion Center</td><td>Food & Beverage</td><td>202102</td><td>1553.31</td></tr><tr><td>Del Amo Fashion Center</td><td>Shoes</td><td>202102</td><td>156644.37</td></tr><tr><td>Del Amo Fashion Center</td><td>Souvenir</td><td>202102</td><td>1126.08</td></tr><tr><td>Del Amo Fashion Center</td><td>Technology</td><td>202102</td><td>139650.00</td></tr><tr><td>Del Amo Fashion Center</td><td>Toys</td><td>202102</td><td>8243.20</td></tr><tr><td>Fashion Valley</td><td>Books</td><td>202102</td><td>515.10</td></tr><tr><td>Fashion Valley</td><td>Clothing</td><td>202102</td><td>47712.72</td></tr><tr><td>Fashion Valley</td><td>Cosmetics</td><td>202102</td><td>4797.88</td></tr><tr><td>Fashion Valley</td><td>Food & Beverage</td><td>202102</td><td>271.96</td></tr><tr><td>Fashion Valley</td><td>Shoes</td><td>202102</td><td>27607.82</td></tr><tr><td>Fashion Valley</td><td>Souvenir</td><td>202102</td><td>375.36</td></tr><tr><td>Fashion Valley</td><td>Technology</td><td>202102</td><td>10500.00</td></tr><tr><td>Fashion Valley</td><td>Toys</td><td>202102</td><td>1720.32</td></tr><tr><td>Glendale Galleria</td><td>Books</td><td>202102</td><td>393.90</td></tr><tr><td>Glendale Galleria</td><td>Clothing</td><td>202102</td><td>46812.48</td></tr><tr><td>Glendale Galleria</td><td>Cosmetics</td><td>202102</td><td>1829.70</td></tr><tr><td>Glendale Galleria</td><td>Food & Beverage</td><td>202102</td><td>632.83</td></tr><tr><td>Glendale Galleria</td><td>Shoes</td><td>202102</td><td>49814.11</td></tr><tr><td>Glendale Galleria</td><td>Souvenir</td><td>202102</td><td>211.14</td></tr><tr><td>Glendale Galleria</td><td>Technology</td><td>202102</td><td>9450.00</td></tr><tr><td>Glendale Galleria</td><td>Toys</td><td>202102</td><td>1254.40</td></tr><tr><td>Irvine Spectrum</td><td>Books</td><td>202102</td><td>318.15</td></tr><tr><td>Irvine Spectrum</td><td>Clothing</td><td>202102</td><td>49813.28</td></tr><tr><td>Irvine Spectrum</td><td>Cosmetics</td><td>202102</td><td>3822.04</td></tr><tr><td>Irvine Spectrum</td><td>Food & Beverage</td><td>202102</td><td>407.94</td></tr><tr><td>Irvine Spectrum</td><td>Shoes</td><td>202102</td><td>22806.46</td></tr><tr><td>Irvine Spectrum</td><td>Souvenir</td><td>202102</td><td>422.28</td></tr><tr><td>Irvine Spectrum</td><td>Technology</td><td>202102</td><td>18900.00</td></tr><tr><td>Irvine Spectrum</td><td>Toys</td><td>202102</td><td>1935.36</td></tr><tr><td>South Coast Plaza</td><td>Books</td><td>202102</td><td>1484.70</td></tr><tr><td>South Coast Plaza</td><td>Clothing</td><td>202102</td><td>225360.08</td></tr><tr><td>South Coast Plaza</td><td>Cosmetics</td><td>202102</td><td>12563.94</td></tr><tr><td>South Coast Plaza</td><td>Food & Beverage</td><td>202102</td><td>1338.88</td></tr><tr><td>South Coast Plaza</td><td>Shoes</td><td>202102</td><td>121234.34</td></tr><tr><td>South Coast Plaza</td><td>Souvenir</td><td>202102</td><td>1618.74</td></tr><tr><td>South Coast Plaza</td><td>Technology</td><td>202102</td><td>97650.00</td></tr><tr><td>South Coast Plaza</td><td>Toys</td><td>202102</td><td>8028.16</td></tr><tr><td>Stanford Shopping Center</td><td>Books</td><td>202102</td><td>560.55</td></tr><tr><td>Stanford Shopping Center</td><td>Clothing</td><td>202102</td><td>114630.56</td></tr><tr><td>Stanford Shopping Center</td><td>Cosmetics</td><td>202102</td><td>7806.72</td></tr><tr><td>Stanford Shopping Center</td><td>Food & Beverage</td><td>202102</td><td>648.52</td></tr><tr><td>Stanford Shopping Center</td><td>Shoes</td><td>202102</td><td>86424.48</td></tr><tr><td>Stanford Shopping Center</td><td>Souvenir</td><td>202102</td><td>797.64</td></tr><tr><td>Stanford Shopping Center</td><td>Technology</td><td>202102</td><td>52500.00</td></tr><tr><td>Stanford Shopping Center</td><td>Toys</td><td>202102</td><td>3870.72</td></tr><tr><td>The Grove</td><td>Books</td><td>202102</td><td>196.95</td></tr><tr><td>The Grove</td><td>Clothing</td><td>202102</td><td>36009.60</td></tr><tr><td>The Grove</td><td>Cosmetics</td><td>202102</td><td>2317.62</td></tr><tr><td>The Grove</td><td>Food & Beverage</td><td>202102</td><td>282.42</td></tr><tr><td>The Grove</td><td>Shoes</td><td>202102</td><td>46213.09</td></tr><tr><td>The Grove</td><td>Souvenir</td><td>202102</td><td>246.33</td></tr><tr><td>The Grove</td><td>Technology</td><td>202102</td><td>25200.00</td></tr><tr><td>The Grove</td><td>Toys</td><td>202102</td><td>2257.92</td></tr><tr><td>Westfield Century City</td><td>Books</td><td>202102</td><td>1348.35</td></tr><tr><td>Westfield Century City</td><td>Clothing</td><td>202102</td><td>174946.64</td></tr><tr><td>Westfield Century City</td><td>Cosmetics</td><td>202102</td><td>7644.08</td></tr><tr><td>Westfield Century City</td><td>Food & Beverage</td><td>202102</td><td>1375.49</td></tr><tr><td>Westfield Century City</td><td>Shoes</td><td>202102</td><td>83423.63</td></tr><tr><td>Westfield Century City</td><td>Souvenir</td><td>202102</td><td>434.01</td></tr><tr><td>Westfield Century City</td><td>Technology</td><td>202102</td><td>85050.00</td></tr><tr><td>Westfield Century City</td><td>Toys</td><td>202102</td><td>4014.08</td></tr><tr><td>Westfield Valley Fair</td><td>Books</td><td>202102</td><td>606.00</td></tr><tr><td>Westfield Valley Fair</td><td>Clothing</td><td>202102</td><td>104727.92</td></tr><tr><td>Westfield Valley Fair</td><td>Cosmetics</td><td>202102</td><td>6099.00</td></tr><tr><td>Westfield Valley Fair</td><td>Food & Beverage</td><td>202102</td><td>988.47</td></tr><tr><td>Westfield Valley Fair</td><td>Shoes</td><td>202102</td><td>57616.32</td></tr><tr><td>Westfield Valley Fair</td><td>Souvenir</td><td>202102</td><td>492.66</td></tr><tr><td>Westfield Valley Fair</td><td>Technology</td><td>202102</td><td>37800.00</td></tr><tr><td>Westfield Valley Fair</td><td>Toys</td><td>202102</td><td>3297.28</td></tr><tr><td>Beverly Center</td><td>Books</td><td>202101</td><td>499.95</td></tr><tr><td>Beverly Center</td><td>Clothing</td><td>202101</td><td>55814.88</td></tr><tr><td>Beverly Center</td><td>Cosmetics</td><td>202101</td><td>3862.70</td></tr><tr><td>Beverly Center</td><td>Food & Beverage</td><td>202101</td><td>413.17</td></tr><tr><td>Beverly Center</td><td>Shoes</td><td>202101</td><td>28808.16</td></tr><tr><td>Beverly Center</td><td>Souvenir</td><td>202101</td><td>410.55</td></tr><tr><td>Beverly Center</td><td>Technology</td><td>202101</td><td>32550.00</td></tr><tr><td>Beverly Center</td><td>Toys</td><td>202101</td><td>2078.72</td></tr><tr><td>Del Amo Fashion Center</td><td>Books</td><td>202101</td><td>1969.50</td></tr><tr><td>Del Amo Fashion Center</td><td>Clothing</td><td>202101</td><td>248166.16</td></tr><tr><td>Del Amo Fashion Center</td><td>Cosmetics</td><td>202101</td><td>13865.06</td></tr><tr><td>Del Amo Fashion Center</td><td>Food & Beverage</td><td>202101</td><td>1914.18</td></tr><tr><td>Del Amo Fashion Center</td><td>Shoes</td><td>202101</td><td>132037.40</td></tr><tr><td>Del Amo Fashion Center</td><td>Souvenir</td><td>202101</td><td>1184.73</td></tr><tr><td>Del Amo Fashion Center</td><td>Technology</td><td>202101</td><td>124950.00</td></tr><tr><td>Del Amo Fashion Center</td><td>Toys</td><td>202101</td><td>8279.04</td></tr><tr><td>Fashion Valley</td><td>Books</td><td>202101</td><td>303.00</td></tr><tr><td>Fashion Valley</td><td>Clothing</td><td>202101</td><td>45012.00</td></tr><tr><td>Fashion Valley</td><td>Cosmetics</td><td>202101</td><td>3334.12</td></tr><tr><td>Fashion Valley</td><td>Food & Beverage</td><td>202101</td><td>475.93</td></tr></tbody></table></div>"
      ]
     },
     "metadata": {
      "application/vnd.databricks.v1+output": {
       "addedWidgets": {},
       "aggData": [],
       "aggError": "",
       "aggOverflow": false,
       "aggSchema": [],
       "aggSeriesLimitReached": false,
       "aggType": "",
       "arguments": {},
       "columnCustomDisplayInfos": {},
       "data": [
        [
         "Beverly Center",
         "Books",
         202102,
         "469.65"
        ],
        [
         "Beverly Center",
         "Clothing",
         202102,
         "51013.60"
        ],
        [
         "Beverly Center",
         "Cosmetics",
         202102,
         "3862.70"
        ],
        [
         "Beverly Center",
         "Food & Beverage",
         202102,
         "345.18"
        ],
        [
         "Beverly Center",
         "Shoes",
         202102,
         "37210.54"
        ],
        [
         "Beverly Center",
         "Souvenir",
         202102,
         "293.25"
        ],
        [
         "Beverly Center",
         "Technology",
         202102,
         "21000.00"
        ],
        [
         "Beverly Center",
         "Toys",
         202102,
         "2150.40"
        ],
        [
         "Del Amo Fashion Center",
         "Books",
         202102,
         "1424.10"
        ],
        [
         "Del Amo Fashion Center",
         "Clothing",
         202102,
         "216957.84"
        ],
        [
         "Del Amo Fashion Center",
         "Cosmetics",
         202102,
         "11506.78"
        ],
        [
         "Del Amo Fashion Center",
         "Food & Beverage",
         202102,
         "1553.31"
        ],
        [
         "Del Amo Fashion Center",
         "Shoes",
         202102,
         "156644.37"
        ],
        [
         "Del Amo Fashion Center",
         "Souvenir",
         202102,
         "1126.08"
        ],
        [
         "Del Amo Fashion Center",
         "Technology",
         202102,
         "139650.00"
        ],
        [
         "Del Amo Fashion Center",
         "Toys",
         202102,
         "8243.20"
        ],
        [
         "Fashion Valley",
         "Books",
         202102,
         "515.10"
        ],
        [
         "Fashion Valley",
         "Clothing",
         202102,
         "47712.72"
        ],
        [
         "Fashion Valley",
         "Cosmetics",
         202102,
         "4797.88"
        ],
        [
         "Fashion Valley",
         "Food & Beverage",
         202102,
         "271.96"
        ],
        [
         "Fashion Valley",
         "Shoes",
         202102,
         "27607.82"
        ],
        [
         "Fashion Valley",
         "Souvenir",
         202102,
         "375.36"
        ],
        [
         "Fashion Valley",
         "Technology",
         202102,
         "10500.00"
        ],
        [
         "Fashion Valley",
         "Toys",
         202102,
         "1720.32"
        ],
        [
         "Glendale Galleria",
         "Books",
         202102,
         "393.90"
        ],
        [
         "Glendale Galleria",
         "Clothing",
         202102,
         "46812.48"
        ],
        [
         "Glendale Galleria",
         "Cosmetics",
         202102,
         "1829.70"
        ],
        [
         "Glendale Galleria",
         "Food & Beverage",
         202102,
         "632.83"
        ],
        [
         "Glendale Galleria",
         "Shoes",
         202102,
         "49814.11"
        ],
        [
         "Glendale Galleria",
         "Souvenir",
         202102,
         "211.14"
        ],
        [
         "Glendale Galleria",
         "Technology",
         202102,
         "9450.00"
        ],
        [
         "Glendale Galleria",
         "Toys",
         202102,
         "1254.40"
        ],
        [
         "Irvine Spectrum",
         "Books",
         202102,
         "318.15"
        ],
        [
         "Irvine Spectrum",
         "Clothing",
         202102,
         "49813.28"
        ],
        [
         "Irvine Spectrum",
         "Cosmetics",
         202102,
         "3822.04"
        ],
        [
         "Irvine Spectrum",
         "Food & Beverage",
         202102,
         "407.94"
        ],
        [
         "Irvine Spectrum",
         "Shoes",
         202102,
         "22806.46"
        ],
        [
         "Irvine Spectrum",
         "Souvenir",
         202102,
         "422.28"
        ],
        [
         "Irvine Spectrum",
         "Technology",
         202102,
         "18900.00"
        ],
        [
         "Irvine Spectrum",
         "Toys",
         202102,
         "1935.36"
        ],
        [
         "South Coast Plaza",
         "Books",
         202102,
         "1484.70"
        ],
        [
         "South Coast Plaza",
         "Clothing",
         202102,
         "225360.08"
        ],
        [
         "South Coast Plaza",
         "Cosmetics",
         202102,
         "12563.94"
        ],
        [
         "South Coast Plaza",
         "Food & Beverage",
         202102,
         "1338.88"
        ],
        [
         "South Coast Plaza",
         "Shoes",
         202102,
         "121234.34"
        ],
        [
         "South Coast Plaza",
         "Souvenir",
         202102,
         "1618.74"
        ],
        [
         "South Coast Plaza",
         "Technology",
         202102,
         "97650.00"
        ],
        [
         "South Coast Plaza",
         "Toys",
         202102,
         "8028.16"
        ],
        [
         "Stanford Shopping Center",
         "Books",
         202102,
         "560.55"
        ],
        [
         "Stanford Shopping Center",
         "Clothing",
         202102,
         "114630.56"
        ],
        [
         "Stanford Shopping Center",
         "Cosmetics",
         202102,
         "7806.72"
        ],
        [
         "Stanford Shopping Center",
         "Food & Beverage",
         202102,
         "648.52"
        ],
        [
         "Stanford Shopping Center",
         "Shoes",
         202102,
         "86424.48"
        ],
        [
         "Stanford Shopping Center",
         "Souvenir",
         202102,
         "797.64"
        ],
        [
         "Stanford Shopping Center",
         "Technology",
         202102,
         "52500.00"
        ],
        [
         "Stanford Shopping Center",
         "Toys",
         202102,
         "3870.72"
        ],
        [
         "The Grove",
         "Books",
         202102,
         "196.95"
        ],
        [
         "The Grove",
         "Clothing",
         202102,
         "36009.60"
        ],
        [
         "The Grove",
         "Cosmetics",
         202102,
         "2317.62"
        ],
        [
         "The Grove",
         "Food & Beverage",
         202102,
         "282.42"
        ],
        [
         "The Grove",
         "Shoes",
         202102,
         "46213.09"
        ],
        [
         "The Grove",
         "Souvenir",
         202102,
         "246.33"
        ],
        [
         "The Grove",
         "Technology",
         202102,
         "25200.00"
        ],
        [
         "The Grove",
         "Toys",
         202102,
         "2257.92"
        ],
        [
         "Westfield Century City",
         "Books",
         202102,
         "1348.35"
        ],
        [
         "Westfield Century City",
         "Clothing",
         202102,
         "174946.64"
        ],
        [
         "Westfield Century City",
         "Cosmetics",
         202102,
         "7644.08"
        ],
        [
         "Westfield Century City",
         "Food & Beverage",
         202102,
         "1375.49"
        ],
        [
         "Westfield Century City",
         "Shoes",
         202102,
         "83423.63"
        ],
        [
         "Westfield Century City",
         "Souvenir",
         202102,
         "434.01"
        ],
        [
         "Westfield Century City",
         "Technology",
         202102,
         "85050.00"
        ],
        [
         "Westfield Century City",
         "Toys",
         202102,
         "4014.08"
        ],
        [
         "Westfield Valley Fair",
         "Books",
         202102,
         "606.00"
        ],
        [
         "Westfield Valley Fair",
         "Clothing",
         202102,
         "104727.92"
        ],
        [
         "Westfield Valley Fair",
         "Cosmetics",
         202102,
         "6099.00"
        ],
        [
         "Westfield Valley Fair",
         "Food & Beverage",
         202102,
         "988.47"
        ],
        [
         "Westfield Valley Fair",
         "Shoes",
         202102,
         "57616.32"
        ],
        [
         "Westfield Valley Fair",
         "Souvenir",
         202102,
         "492.66"
        ],
        [
         "Westfield Valley Fair",
         "Technology",
         202102,
         "37800.00"
        ],
        [
         "Westfield Valley Fair",
         "Toys",
         202102,
         "3297.28"
        ],
        [
         "Beverly Center",
         "Books",
         202101,
         "499.95"
        ],
        [
         "Beverly Center",
         "Clothing",
         202101,
         "55814.88"
        ],
        [
         "Beverly Center",
         "Cosmetics",
         202101,
         "3862.70"
        ],
        [
         "Beverly Center",
         "Food & Beverage",
         202101,
         "413.17"
        ],
        [
         "Beverly Center",
         "Shoes",
         202101,
         "28808.16"
        ],
        [
         "Beverly Center",
         "Souvenir",
         202101,
         "410.55"
        ],
        [
         "Beverly Center",
         "Technology",
         202101,
         "32550.00"
        ],
        [
         "Beverly Center",
         "Toys",
         202101,
         "2078.72"
        ],
        [
         "Del Amo Fashion Center",
         "Books",
         202101,
         "1969.50"
        ],
        [
         "Del Amo Fashion Center",
         "Clothing",
         202101,
         "248166.16"
        ],
        [
         "Del Amo Fashion Center",
         "Cosmetics",
         202101,
         "13865.06"
        ],
        [
         "Del Amo Fashion Center",
         "Food & Beverage",
         202101,
         "1914.18"
        ],
        [
         "Del Amo Fashion Center",
         "Shoes",
         202101,
         "132037.40"
        ],
        [
         "Del Amo Fashion Center",
         "Souvenir",
         202101,
         "1184.73"
        ],
        [
         "Del Amo Fashion Center",
         "Technology",
         202101,
         "124950.00"
        ],
        [
         "Del Amo Fashion Center",
         "Toys",
         202101,
         "8279.04"
        ],
        [
         "Fashion Valley",
         "Books",
         202101,
         "303.00"
        ],
        [
         "Fashion Valley",
         "Clothing",
         202101,
         "45012.00"
        ],
        [
         "Fashion Valley",
         "Cosmetics",
         202101,
         "3334.12"
        ],
        [
         "Fashion Valley",
         "Food & Beverage",
         202101,
         "475.93"
        ]
       ],
       "datasetInfos": [],
       "dbfsResultPath": null,
       "isJsonSchema": true,
       "metadata": {},
       "overflow": false,
       "plotOptions": {
        "customPlotOptions": {},
        "displayType": "table",
        "pivotAggregation": null,
        "pivotColumns": null,
        "xColumns": null,
        "yColumns": null
       },
       "removedWidgets": [],
       "schema": [
        {
         "metadata": "{}",
         "name": "shopping_mall",
         "type": "\"string\""
        },
        {
         "metadata": "{}",
         "name": "category",
         "type": "\"string\""
        },
        {
         "metadata": "{}",
         "name": "cd_peri",
         "type": "\"integer\""
        },
        {
         "metadata": "{}",
         "name": "TOTAL",
         "type": "\"decimal(28,2)\""
        }
       ],
       "type": "table"
      }
     },
     "output_type": "display_data"
    }
   ],
   "source": [
    "%sql\n",
    "SELECT * FROM s_shopping.TABE_VEND_AGRUP_CATEG LIMIT 100"
   ]
  },
  {
   "cell_type": "code",
   "execution_count": 0,
   "metadata": {
    "application/vnd.databricks.v1+cell": {
     "cellMetadata": {},
     "inputWidgets": {},
     "nuid": "e43c5a64-691a-4c13-a61e-c1d6eb5e5cd0",
     "showTitle": false,
     "tableResultSettingsMap": {},
     "title": ""
    }
   },
   "outputs": [],
   "source": []
  }
 ],
 "metadata": {
  "application/vnd.databricks.v1+notebook": {
   "computePreferences": null,
   "dashboards": [],
   "environmentMetadata": {
    "base_environment": "",
    "environment_version": "1"
   },
   "inputWidgetPreferences": null,
   "language": "python",
   "notebookMetadata": {
    "mostRecentlyExecutedCommandWithImplicitDF": {
     "commandId": 2297257447926017,
     "dataframes": [
      "_sqldf"
     ]
    },
    "pythonIndentUnit": 4
   },
   "notebookName": "Notebook Camada Silver",
   "widgets": {}
  }
 },
 "nbformat": 4,
 "nbformat_minor": 0
}