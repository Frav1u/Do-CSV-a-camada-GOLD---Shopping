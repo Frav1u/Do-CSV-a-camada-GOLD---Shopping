{
 "cells": [
  {
   "cell_type": "code",
   "execution_count": 0,
   "metadata": {
    "application/vnd.databricks.v1+cell": {
     "cellMetadata": {
      "byteLimit": 2048000,
      "rowLimit": 10000
     },
     "inputWidgets": {},
     "nuid": "a566374d-a17e-4615-9ce1-24d157c32fba",
     "showTitle": true,
     "tableResultSettingsMap": {},
     "title": "Criação da Tabela  Gold"
    }
   },
   "outputs": [],
   "source": [
    "\n",
    "# O objetivo desta tabela é consolidar os dados de vendas, agrupando-os por shopping e período (cd_peri, representando ano e mês). A partir dessa visão, é possível realizar comparações de vendas entre os diferentes shoppings, além de análises de vendas YoY (Year over Year — ano a ano).\n",
    "\n",
    "from pyspark.sql import functions as F\n",
    "from pyspark.sql.functions import substring\n",
    "from pyspark.sql import SparkSession\n",
    "from pyspark.sql.types import *\n",
    "\n",
    "df_gold = spark.table('s_shopping.TABE_VEND_AGRUP_CATEG')\\\n",
    "    .groupBy('shopping_mall', 'cd_peri').agg(F.sum('TOTAL').alias('TOTAL')).orderBy('shopping_mall','cd_peri')\\\n",
    "    .withColumn('ano', F.substring('cd_peri', 1, 4).cast('int'))\\\n",
    "    .withColumn('mes', F.substring('cd_peri', 5, 6).cast('int'))\\\n",
    "\n",
    "df_gold.write.format('delta')\\\n",
    "    .mode('overwrite')\\\n",
    "    .option(\"mergeSchema\", \"true\")\\\n",
    "    .saveAsTable('g_shopping.TABE_VEND_MES')"
   ]
  },
  {
   "cell_type": "code",
   "execution_count": 0,
   "metadata": {
    "application/vnd.databricks.v1+cell": {
     "cellMetadata": {
      "byteLimit": 2048000,
      "rowLimit": 10000
     },
     "inputWidgets": {},
     "nuid": "0f3debba-2fb6-4d4e-b321-7b68784a64ab",
     "showTitle": false,
     "tableResultSettingsMap": {},
     "title": ""
    }
   },
   "outputs": [
    {
     "output_type": "display_data",
     "data": {
      "text/html": [
       "<style scoped>\n",
       "  .table-result-container {\n",
       "    max-height: 300px;\n",
       "    overflow: auto;\n",
       "  }\n",
       "  table, th, td {\n",
       "    border: 1px solid black;\n",
       "    border-collapse: collapse;\n",
       "  }\n",
       "  th, td {\n",
       "    padding: 5px;\n",
       "  }\n",
       "  th {\n",
       "    text-align: left;\n",
       "  }\n",
       "</style><div class='table-result-container'><table class='table-result'><thead style='background-color: white'><tr><th>shopping_mall</th><th>cd_peri</th><th>TOTAL</th><th>ano</th><th>mes</th></tr></thead><tbody><tr><td>Beverly Center</td><td>202201</td><td>135854.09</td><td>2022</td><td>1</td></tr><tr><td>Beverly Center</td><td>202202</td><td>128592.99</td><td>2022</td><td>2</td></tr><tr><td>Beverly Center</td><td>202203</td><td>136431.45</td><td>2022</td><td>3</td></tr><tr><td>Beverly Center</td><td>202204</td><td>133373.85</td><td>2022</td><td>4</td></tr><tr><td>Beverly Center</td><td>202205</td><td>127684.72</td><td>2022</td><td>5</td></tr><tr><td>Beverly Center</td><td>202206</td><td>116892.55</td><td>2022</td><td>6</td></tr><tr><td>Beverly Center</td><td>202207</td><td>123227.07</td><td>2022</td><td>7</td></tr><tr><td>Beverly Center</td><td>202208</td><td>158347.86</td><td>2022</td><td>8</td></tr><tr><td>Beverly Center</td><td>202209</td><td>112443.50</td><td>2022</td><td>9</td></tr><tr><td>Beverly Center</td><td>202210</td><td>147056.69</td><td>2022</td><td>10</td></tr><tr><td>Beverly Center</td><td>202211</td><td>126326.05</td><td>2022</td><td>11</td></tr><tr><td>Beverly Center</td><td>202212</td><td>111634.24</td><td>2022</td><td>12</td></tr><tr><td>Beverly Center</td><td>202301</td><td>67485.42</td><td>2023</td><td>1</td></tr><tr><td>Beverly Center</td><td>202302</td><td>92465.23</td><td>2023</td><td>2</td></tr><tr><td>Beverly Center</td><td>202303</td><td>12323.07</td><td>2023</td><td>3</td></tr><tr><td>Beverly Center</td><td>202304</td><td>11928.42</td><td>2023</td><td>4</td></tr><tr><td>Beverly Center</td><td>202305</td><td>10817.69</td><td>2023</td><td>5</td></tr><tr><td>Beverly Center</td><td>202306</td><td>17940.53</td><td>2023</td><td>6</td></tr><tr><td>Beverly Center</td><td>202307</td><td>16527.95</td><td>2023</td><td>7</td></tr><tr><td>Beverly Center</td><td>202308</td><td>14216.38</td><td>2023</td><td>8</td></tr><tr><td>Beverly Center</td><td>202309</td><td>2802.76</td><td>2023</td><td>9</td></tr><tr><td>Beverly Center</td><td>202310</td><td>6076.04</td><td>2023</td><td>10</td></tr><tr><td>Beverly Center</td><td>202311</td><td>3315.79</td><td>2023</td><td>11</td></tr><tr><td>Beverly Center</td><td>202312</td><td>4419.87</td><td>2023</td><td>12</td></tr></tbody></table></div>"
      ]
     },
     "metadata": {
      "application/vnd.databricks.v1+output": {
       "addedWidgets": {},
       "aggData": [],
       "aggError": "",
       "aggOverflow": false,
       "aggSchema": [],
       "aggSeriesLimitReached": false,
       "aggType": "",
       "arguments": {},
       "columnCustomDisplayInfos": {},
       "data": [
        [
         "Beverly Center",
         202201,
         "135854.09",
         2022,
         1
        ],
        [
         "Beverly Center",
         202202,
         "128592.99",
         2022,
         2
        ],
        [
         "Beverly Center",
         202203,
         "136431.45",
         2022,
         3
        ],
        [
         "Beverly Center",
         202204,
         "133373.85",
         2022,
         4
        ],
        [
         "Beverly Center",
         202205,
         "127684.72",
         2022,
         5
        ],
        [
         "Beverly Center",
         202206,
         "116892.55",
         2022,
         6
        ],
        [
         "Beverly Center",
         202207,
         "123227.07",
         2022,
         7
        ],
        [
         "Beverly Center",
         202208,
         "158347.86",
         2022,
         8
        ],
        [
         "Beverly Center",
         202209,
         "112443.50",
         2022,
         9
        ],
        [
         "Beverly Center",
         202210,
         "147056.69",
         2022,
         10
        ],
        [
         "Beverly Center",
         202211,
         "126326.05",
         2022,
         11
        ],
        [
         "Beverly Center",
         202212,
         "111634.24",
         2022,
         12
        ],
        [
         "Beverly Center",
         202301,
         "67485.42",
         2023,
         1
        ],
        [
         "Beverly Center",
         202302,
         "92465.23",
         2023,
         2
        ],
        [
         "Beverly Center",
         202303,
         "12323.07",
         2023,
         3
        ],
        [
         "Beverly Center",
         202304,
         "11928.42",
         2023,
         4
        ],
        [
         "Beverly Center",
         202305,
         "10817.69",
         2023,
         5
        ],
        [
         "Beverly Center",
         202306,
         "17940.53",
         2023,
         6
        ],
        [
         "Beverly Center",
         202307,
         "16527.95",
         2023,
         7
        ],
        [
         "Beverly Center",
         202308,
         "14216.38",
         2023,
         8
        ],
        [
         "Beverly Center",
         202309,
         "2802.76",
         2023,
         9
        ],
        [
         "Beverly Center",
         202310,
         "6076.04",
         2023,
         10
        ],
        [
         "Beverly Center",
         202311,
         "3315.79",
         2023,
         11
        ],
        [
         "Beverly Center",
         202312,
         "4419.87",
         2023,
         12
        ]
       ],
       "datasetInfos": [],
       "dbfsResultPath": null,
       "isJsonSchema": true,
       "metadata": {},
       "overflow": false,
       "plotOptions": {
        "customPlotOptions": {},
        "displayType": "table",
        "pivotAggregation": null,
        "pivotColumns": null,
        "xColumns": null,
        "yColumns": null
       },
       "removedWidgets": [],
       "schema": [
        {
         "metadata": "{}",
         "name": "shopping_mall",
         "type": "\"string\""
        },
        {
         "metadata": "{}",
         "name": "cd_peri",
         "type": "\"integer\""
        },
        {
         "metadata": "{}",
         "name": "TOTAL",
         "type": "\"decimal(38,2)\""
        },
        {
         "metadata": "{}",
         "name": "ano",
         "type": "\"integer\""
        },
        {
         "metadata": "{}",
         "name": "mes",
         "type": "\"integer\""
        }
       ],
       "type": "table"
      }
     },
     "output_type": "display_data"
    },
    {
     "output_type": "display_data",
     "data": {
      "text/plain": [
       "Databricks visualization. Run in Databricks to view."
      ]
     },
     "metadata": {
      "application/vnd.databricks.v1.subcommand+json": {
       "baseErrorDetails": null,
       "bindings": {},
       "collapsed": false,
       "command": "%python\n__backend_agg_display_orig = display\n__backend_agg_dfs = []\ndef __backend_agg_display_new(df):\n    __backend_agg_df_modules = [\"pandas.core.frame\", \"databricks.koalas.frame\", \"pyspark.sql.dataframe\", \"pyspark.pandas.frame\", \"pyspark.sql.connect.dataframe\"]\n    if (type(df).__module__ in __backend_agg_df_modules and type(df).__name__ == 'DataFrame') or isinstance(df, list):\n        __backend_agg_dfs.append(df)\n\ndisplay = __backend_agg_display_new\n\ndef __backend_agg_user_code_fn():\n    import base64\n    exec(base64.standard_b64decode(\"ZGZfZ29sZC5maWx0ZXIoKEYuY29sKCdzaG9wcGluZ19tYWxsJyk9PSAnQmV2ZXJseSBDZW50ZXInKSAmIChGLmNvbCgnY2RfcGVyaScpID49ICcyMDIyMDEnKSkuZGlzcGxheSgp\").decode())\n\ntry:\n    # run user code\n    __backend_agg_user_code_fn()\n\n    #reset display function\n    display = __backend_agg_display_orig\n\n    if len(__backend_agg_dfs) > 0:\n        # create a temp view\n        if type(__backend_agg_dfs[0]).__module__ == \"databricks.koalas.frame\":\n            # koalas dataframe\n            __backend_agg_dfs[0].to_spark().createOrReplaceTempView(\"DatabricksViewead3bdc\")\n        elif type(__backend_agg_dfs[0]).__module__ == \"pandas.core.frame\" or isinstance(__backend_agg_dfs[0], list):\n            # pandas dataframe\n            spark.createDataFrame(__backend_agg_dfs[0]).createOrReplaceTempView(\"DatabricksViewead3bdc\")\n        else:\n            __backend_agg_dfs[0].createOrReplaceTempView(\"DatabricksViewead3bdc\")\n        #run backend agg\n        display(spark.sql(\"\"\"WITH q AS (select * from DatabricksViewead3bdc) SELECT `mes`,SUM(`TOTAL`) `column_f370f856224`,`ano` FROM q GROUP BY `ano`,`mes`\"\"\"))\n    else:\n        displayHTML(\"dataframe no longer exists. If you're using dataframe.display(), use display(dataframe) instead.\")\n\n\nfinally:\n    spark.sql(\"drop view if exists DatabricksViewead3bdc\")\n    display = __backend_agg_display_orig\n    del __backend_agg_display_new\n    del __backend_agg_display_orig\n    del __backend_agg_dfs\n    del __backend_agg_user_code_fn\n\n",
       "commandTitle": "Visualization 1",
       "commandType": "auto",
       "commandVersion": 0,
       "commentThread": [],
       "commentsVisible": false,
       "contentSha256Hex": null,
       "customPlotOptions": {
        "redashChart": [
         {
          "key": "type",
          "value": "CHART"
         },
         {
          "key": "options",
          "value": {
           "alignYAxesAtZero": true,
           "coefficient": 1,
           "columnConfigurationMap": {
            "series": {
             "column": "ano",
             "id": "column_f370f856226"
            },
            "x": {
             "column": "mes",
             "id": "column_f370f856221"
            },
            "y": [
             {
              "column": "TOTAL",
              "id": "column_f370f856224",
              "transform": "SUM"
             }
            ]
           },
           "dateTimeFormat": "DD/MM/YYYY HH:mm",
           "direction": {
            "type": "counterclockwise"
           },
           "error_y": {
            "type": "data",
            "visible": true
           },
           "globalSeriesType": "line",
           "isAggregationOn": true,
           "legend": {
            "traceorder": "normal"
           },
           "missingValuesAsZero": true,
           "numberFormat": "'0,0'",
           "percentFormat": "0[.]00%",
           "series": {
            "error_y": {
             "type": "data",
             "visible": true
            },
            "stacking": null
           },
           "seriesOptions": {
            "column_f370f856224": {
             "type": "line",
             "yAxis": 0
            }
           },
           "showDataLabels": false,
           "sizemode": "diameter",
           "sortX": true,
           "sortY": true,
           "swappedAxes": false,
           "textFormat": "",
           "useAggregationsUi": true,
           "valuesOptions": {},
           "version": 2,
           "xAxis": {
            "labels": {
             "enabled": true
            },
            "title": {
             "text": "Mês"
            },
            "type": "-"
           },
           "yAxis": [
            {
             "title": {
              "text": "Total"
             },
             "type": "-"
            },
            {
             "opposite": true,
             "type": "-"
            }
           ]
          }
         }
        ]
       },
       "datasetPreviewNameToCmdIdMap": {},
       "diffDeletes": [],
       "diffInserts": [],
       "displayType": "redashChart",
       "error": null,
       "errorDetails": null,
       "errorSummary": null,
       "errorTraceType": null,
       "finishTime": 0,
       "globalVars": {},
       "guid": "",
       "height": "auto",
       "hideCommandCode": false,
       "hideCommandResult": false,
       "iPythonMetadata": null,
       "inputWidgets": {},
       "isLockedInExamMode": false,
       "latestUser": "a user",
       "latestUserId": null,
       "listResultMetadata": null,
       "metadata": {},
       "nuid": "87fc8d17-93f0-4d46-90bb-201fee039ce2",
       "origId": 0,
       "parentHierarchy": [],
       "pivotAggregation": null,
       "pivotColumns": null,
       "position": 5.0,
       "resultDbfsErrorMessage": null,
       "resultDbfsStatus": "INLINED_IN_TREE",
       "results": null,
       "showCommandTitle": false,
       "startTime": 0,
       "state": "input",
       "streamStates": {},
       "subcommandOptions": {
        "queryPlan": {
         "groups": [
          {
           "column": "mes",
           "type": "column"
          },
          {
           "column": "ano",
           "type": "column"
          }
         ],
         "selects": [
          {
           "column": "mes",
           "type": "column"
          },
          {
           "alias": "column_f370f856224",
           "args": [
            {
             "column": "TOTAL",
             "type": "column"
            }
           ],
           "function": "SUM",
           "type": "function"
          },
          {
           "column": "ano",
           "type": "column"
          }
         ]
        }
       },
       "submitTime": 0,
       "subtype": "tableResultSubCmd.visualization",
       "tableResultIndex": 0,
       "tableResultSettingsMap": {},
       "useConsistentColors": false,
       "version": "CommandV1",
       "width": "auto",
       "workflows": [],
       "xColumns": null,
       "yColumns": null
      }
     },
     "output_type": "display_data"
    }
   ],
   "source": [
    "df_gold.filter((F.col('shopping_mall')== 'Beverly Center') & (F.col('cd_peri') >= '202201')).display()"
   ]
  },
  {
   "cell_type": "code",
   "execution_count": 0,
   "metadata": {
    "application/vnd.databricks.v1+cell": {
     "cellMetadata": {},
     "inputWidgets": {},
     "nuid": "2542b218-3527-4c31-8b5a-5ef0060e7221",
     "showTitle": false,
     "tableResultSettingsMap": {},
     "title": ""
    }
   },
   "outputs": [],
   "source": []
  }
 ],
 "metadata": {
  "application/vnd.databricks.v1+notebook": {
   "computePreferences": null,
   "dashboards": [],
   "environmentMetadata": {
    "base_environment": "",
    "environment_version": "1"
   },
   "inputWidgetPreferences": null,
   "language": "python",
   "notebookMetadata": {
    "mostRecentlyExecutedCommandWithImplicitDF": {
     "commandId": 2297257447926022,
     "dataframes": [
      "_sqldf"
     ]
    },
    "pythonIndentUnit": 4
   },
   "notebookName": "Notebook Camada Gold",
   "widgets": {}
  }
 },
 "nbformat": 4,
 "nbformat_minor": 0
}